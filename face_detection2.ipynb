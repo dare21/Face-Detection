{
  "nbformat": 4,
  "nbformat_minor": 0,
  "metadata": {
    "colab": {
      "provenance": [],
      "machine_shape": "hm"
    },
    "kernelspec": {
      "name": "python3",
      "display_name": "Python 3"
    }
  },
  "cells": [
    {
      "cell_type": "code",
      "source": [
        "import os\n",
        "import time\n",
        "import cv2"
      ],
      "metadata": {
        "id": "_pfQSWWilXu-"
      },
      "execution_count": 1,
      "outputs": []
    },
    {
      "cell_type": "code",
      "source": [
        "path_to_images = os.path.join('data','images')\n",
        "images_taken = 4"
      ],
      "metadata": {
        "id": "LU43S6CxlX2l"
      },
      "execution_count": null,
      "outputs": []
    },
    {
      "cell_type": "code",
      "source": [
        "cap = cv2.VideoCapture(0)\n",
        "for num in range(images_taken):\n",
        "    print('Snapping image {}'.format(num))\n",
        "    ret, frame = cap.read()\n",
        "    image_name = os.path.join(path_to_images, '.jpg')\n",
        "    cv2.imwrite(image_name, frame)\n",
        "    cv2.imshow('frame', frame)\n",
        "    time.sleep(0.5)\n",
        "\n",
        "    if cv2.waitKey(0) & 0xFF == ord('q'):\n",
        "        break\n",
        "\n",
        "cap.release()\n",
        "cv2.destroyAllWindows()"
      ],
      "metadata": {
        "id": "IjR1mah7lX8_"
      },
      "execution_count": null,
      "outputs": []
    },
    {
      "cell_type": "code",
      "source": [
        "import tensorflow as tf\n",
        "import json\n",
        "import numpy as np\n",
        "from matplotlib import pyplot as plt"
      ],
      "metadata": {
        "id": "OUAixtYG7rO0"
      },
      "execution_count": 2,
      "outputs": []
    },
    {
      "cell_type": "code",
      "source": [
        "gpu_list = tf.config.experimental.list_physical_devices('GPU')\n",
        "for gpu in gpu_list:\n",
        "  tf.config.experimental.set_memory_growth(gpu, True)"
      ],
      "metadata": {
        "id": "77cAJ0Pb7rVT"
      },
      "execution_count": 3,
      "outputs": []
    },
    {
      "cell_type": "code",
      "source": [
        "images = tf.data.Dataset.list_files('/content/images_data/images/*.jpg')"
      ],
      "metadata": {
        "id": "aeDaPpCj7rai"
      },
      "execution_count": 7,
      "outputs": []
    },
    {
      "cell_type": "code",
      "source": [
        "images.as_numpy_iterator().next()"
      ],
      "metadata": {
        "colab": {
          "base_uri": "https://localhost:8080/"
        },
        "id": "uZ0s5cet7rdb",
        "outputId": "21691f00-c04c-45f9-aa3a-2240e0394cfe"
      },
      "execution_count": null,
      "outputs": [
        {
          "output_type": "execute_result",
          "data": {
            "text/plain": [
              "b'/content/images_data/images/2023-05-08-112604_1.jpg'"
            ]
          },
          "metadata": {},
          "execution_count": 28
        }
      ]
    },
    {
      "cell_type": "code",
      "source": [
        "def get_image(x):\n",
        "  # returns a byte-encoded image\n",
        "  byte_img = tf.io.read_file(x)\n",
        "  \n",
        "  # we decode the image and return it\n",
        "  return tf.io.decode_jpeg(byte_img)  "
      ],
      "metadata": {
        "id": "i6xcfuRDlZzm"
      },
      "execution_count": null,
      "outputs": []
    },
    {
      "cell_type": "code",
      "source": [
        "images = images.map(get_image)"
      ],
      "metadata": {
        "id": "8hqKp3gklZ2V"
      },
      "execution_count": null,
      "outputs": []
    },
    {
      "cell_type": "code",
      "source": [
        "#images.as_numpy_iterator().next()\n",
        "type(images)"
      ],
      "metadata": {
        "colab": {
          "base_uri": "https://localhost:8080/"
        },
        "id": "_9KxiF9V-4bN",
        "outputId": "a7c72206-bec7-4cd5-fefa-87547f9cd3a2"
      },
      "execution_count": null,
      "outputs": [
        {
          "output_type": "execute_result",
          "data": {
            "text/plain": [
              "tensorflow.python.data.ops.map_op._MapDataset"
            ]
          },
          "metadata": {},
          "execution_count": 31
        }
      ]
    },
    {
      "cell_type": "code",
      "source": [
        "# returns \"batch_size\" number of images\n",
        "image_getter = images.batch(5).as_numpy_iterator()"
      ],
      "metadata": {
        "id": "xtZ81tx1-4d5"
      },
      "execution_count": null,
      "outputs": []
    },
    {
      "cell_type": "code",
      "source": [
        "show_images = image_getter.next()\n",
        "\n",
        "fig, ax = plt.subplots(ncols=5, figsize=(20,20))\n",
        "for idx, image in enumerate(show_images):\n",
        "  ax[idx].imshow(image)\n",
        "plt.show()"
      ],
      "metadata": {
        "id": "aZt6fzwR-4kr"
      },
      "execution_count": 6,
      "outputs": []
    },
    {
      "cell_type": "code",
      "source": [],
      "metadata": {
        "id": "20mumhsH-4mx"
      },
      "execution_count": null,
      "outputs": []
    },
    {
      "cell_type": "code",
      "source": [],
      "metadata": {
        "id": "_Tn45pTk-4pJ"
      },
      "execution_count": null,
      "outputs": []
    }
  ]
}